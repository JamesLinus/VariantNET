{
 "cells": [
  {
   "cell_type": "markdown",
   "metadata": {},
   "source": [
    "shell script example to get testing data from BAM files and (stripped) VCF files\n",
    "```\n",
    "mkdir -p ./wd\n",
    "cd ./wd\n",
    "python ../helper_scripts/get_SNP_candidates.py --bam_file_fn ../testing_data/chr22/hg38.NA12878-WashU_chr22-18924717-49973797.bam \\\n",
    "                                               --ref_fasta_fn ../testing_data/chr22/chr22.fa \\\n",
    "                                               --pm_count_fn pm_counts_chr22 --ctg_nam chr22\n",
    "python ../helper_scripts/get_alignment_tensor.py --bam_file_fn ../testing_data/chr22/hg38.NA12878-WashU_chr22-18924717-49973797.bam \\\n",
    "                                                 --pm_count_fn pm_counts_chr22 \\\n",
    "                                                 --ref_fasta_fn ../testing_data/chr22/chr22.fa \\\n",
    "                                                 --ctg_name chr22 > aln_tensor_chr22\n",
    "python ../helper_scripts/get_variant_set.py < ../testing_data/chr22/chr22.vcf > variants_chr22\n",
    "```"
   ]
  },
  {
   "cell_type": "code",
   "execution_count": null,
   "metadata": {
    "collapsed": true
   },
   "outputs": [],
   "source": []
  },
  {
   "cell_type": "code",
   "execution_count": 1,
   "metadata": {
    "collapsed": false
   },
   "outputs": [
    {
     "name": "stdout",
     "output_type": "stream",
     "text": [
      "Populating the interactive namespace from numpy and matplotlib\n"
     ]
    }
   ],
   "source": [
    "%matplotlib inline\n",
    "%pylab inline"
   ]
  },
  {
   "cell_type": "code",
   "execution_count": 3,
   "metadata": {
    "collapsed": false
   },
   "outputs": [],
   "source": [
    "# I have not written a python packaging script, load the NN class within the repository\n",
    "import sys\n",
    "sys.path.append('../')"
   ]
  },
  {
   "cell_type": "code",
   "execution_count": 4,
   "metadata": {
    "collapsed": false
   },
   "outputs": [],
   "source": [
    "#import variantNet as vn\n",
    "import variantNet.utils as utils\n",
    "import variantNet.vn as vn"
   ]
  },
  {
   "cell_type": "code",
   "execution_count": 5,
   "metadata": {
    "collapsed": false
   },
   "outputs": [],
   "source": [
    "# useful for testing\n",
    "#reload(utils)\n",
    "#reload(vn)"
   ]
  },
  {
   "cell_type": "code",
   "execution_count": 6,
   "metadata": {
    "collapsed": false
   },
   "outputs": [],
   "source": [
    "Xarray, Yarray, pos_array = \\\n",
    "utils.get_training_array(\"../wd/aln_tensor_chr21\", \n",
    "                         \"../wd/variants_chr21\", \n",
    "                         \"../testing_data/chr21/CHROM21_v.3.3.2_highconf_noinconsistent.bed\" )"
   ]
  },
  {
   "cell_type": "code",
   "execution_count": 7,
   "metadata": {
    "collapsed": false
   },
   "outputs": [
    {
     "name": "stdout",
     "output_type": "stream",
     "text": [
      "(53537, 15, 4, 3)\n",
      "(53537, 8)\n"
     ]
    }
   ],
   "source": [
    "print Xarray.shape\n",
    "print Yarray.shape"
   ]
  },
  {
   "cell_type": "code",
   "execution_count": 8,
   "metadata": {
    "collapsed": false
   },
   "outputs": [
    {
     "data": {
      "text/plain": [
       "<matplotlib.image.AxesImage at 0x7fba42f56490>"
      ]
     },
     "execution_count": 8,
     "metadata": {},
     "output_type": "execute_result"
    },
    {
     "data": {
      "image/png": "[encoded data removed]",
      "text/plain": [
       "<matplotlib.figure.Figure at 0x7fbad59bbb50>"
      ]
     },
     "metadata": {},
     "output_type": "display_data"
    },
    {
     "data": {
      "image/png": "[encoded data removed]",
      "text/plain": [
       "<matplotlib.figure.Figure at 0x7fba43428110>"
      ]
     },
     "metadata": {},
     "output_type": "display_data"
    },
    {
     "data": {
      "image/png": "[encoded data removed]",
      "text/plain": [
       "<matplotlib.figure.Figure at 0x7fba43414690>"
      ]
     },
     "metadata": {},
     "output_type": "display_data"
    }
   ],
   "source": [
    "i = 999\n",
    "figure(figsize=(5, 2))\n",
    "matshow(Xarray[i,:,:,0].transpose(), vmin=0, vmax=50, cmap=cm.coolwarm, fignum=0)\n",
    "figure(figsize=(5, 2))\n",
    "matshow(Xarray[i,:,:,1].transpose(), vmin=-50, vmax=50, cmap=cm.coolwarm, fignum=0)\n",
    "figure(figsize=(5, 2))\n",
    "matshow(Xarray[i,:,:,2].transpose(), vmin=-50, vmax=50, cmap=cm.coolwarm, fignum=0)"
   ]
  },
  {
   "cell_type": "code",
   "execution_count": 9,
   "metadata": {
    "collapsed": true
   },
   "outputs": [],
   "source": [
    "%%bash\n",
    "mkdir -p ../wd/parameters"
   ]
  },
  {
   "cell_type": "code",
   "execution_count": 10,
   "metadata": {
    "collapsed": false
   },
   "outputs": [],
   "source": [
    "n = vn.VariantNet()"
   ]
  },
  {
   "cell_type": "code",
   "execution_count": 11,
   "metadata": {
    "collapsed": true
   },
   "outputs": [],
   "source": [
    "n.init()"
   ]
  },
  {
   "cell_type": "code",
   "execution_count": 12,
   "metadata": {
    "collapsed": false
   },
   "outputs": [
    {
     "name": "stdout",
     "output_type": "stream",
     "text": [
      "0 train lost: 3.74287841797 validation lost 3.64796328125\n",
      "60 train lost: 1.06825488281 validation lost 1.02078203125\n",
      "120 train lost: 0.802602233887 validation lost 0.748889990234\n",
      "180 train lost: 0.627106750488 validation lost 0.643667529297\n",
      "240 train lost: 0.592438232422 validation lost 0.583578613281\n",
      "300 train lost: 0.649790893555 validation lost 0.544902783203\n",
      "360 train lost: 0.399657409668 validation lost 0.483504833984\n",
      "420 train lost: 0.539160949707 validation lost 0.460812304688\n",
      "480 train lost: 0.460912628174 validation lost 0.407081982422\n",
      "540 train lost: 0.283929321289 validation lost 0.382255859375\n",
      "600 train lost: 0.341383483887 validation lost 0.358508544922\n",
      "660 train lost: 0.314120330811 validation lost 0.339563842773\n",
      "720 train lost: 0.281826812744 validation lost 0.331615234375\n",
      "780 train lost: 0.298485229492 validation lost 0.329188012695\n",
      "840 train lost: 0.251700927734 validation lost 0.326593969727\n",
      "900 train lost: 0.221171096802 validation lost 0.322357543945\n",
      "960 train lost: 0.263735900879 validation lost 0.340030395508\n",
      "1020 train lost: 0.192372589111 validation lost 0.327202661133\n",
      "1080 train lost: 0.18967980957 validation lost 0.295855981445\n",
      "1140 train lost: 0.21009046936 validation lost 0.291828369141\n",
      "1200 train lost: 0.241374694824 validation lost 0.300405664063\n",
      "1260 train lost: 0.234568893433 validation lost 0.290662109375\n",
      "1320 train lost: 0.212577407837 validation lost 0.28930847168\n",
      "1380 train lost: 0.223641723633 validation lost 0.295545239258\n",
      "1440 train lost: 0.225630828857 validation lost 0.289867211914\n",
      "1500 train lost: 0.184860992432 validation lost 0.284691308594\n",
      "1560 train lost: 0.16283215332 validation lost 0.291357910156\n",
      "1620 train lost: 0.243198394775 validation lost 0.276385180664\n",
      "1680 train lost: 0.201296157837 validation lost 0.290150439453\n",
      "1740 train lost: 0.183524841309 validation lost 0.291123535156\n",
      "1800 train lost: 0.173368637085 validation lost 0.280681616211\n",
      "1860 train lost: 0.151555130005 validation lost 0.277822363281\n",
      "1920 train lost: 0.193666931152 validation lost 0.271099072266\n",
      "1980 train lost: 0.182145339966 validation lost 0.275292333984\n",
      "2040 train lost: 0.150972793579 validation lost 0.288210522461\n",
      "2100 train lost: 0.129351882935 validation lost 0.291455224609\n",
      "2160 train lost: 0.160881271362 validation lost 0.274733300781\n",
      "2220 train lost: 0.18460899353 validation lost 0.277964550781\n",
      "2280 train lost: 0.136475067139 validation lost 0.275824731445\n",
      "2340 train lost: 0.127550415039 validation lost 0.284143481445\n",
      "2400 train lost: 0.175534423828 validation lost 0.280202978516\n"
     ]
    }
   ],
   "source": [
    "batch_size = 500\n",
    "validation_lost = []\n",
    "for i in range(2401):\n",
    "    Xbatch, Ybatch = utils.get_batch(Xarray[:30000], Yarray[:30000], size=batch_size)\n",
    "    loss = n.train(Xbatch, Ybatch)\n",
    "    if i % (len(Xarray[:30000])/batch_size) == 0:\n",
    "        v_lost = n.get_loss( Xarray[30000:40000], Yarray[30000:40000] )\n",
    "        print i, \"train lost:\", loss/batch_size, \"validation lost\", v_lost/10000\n",
    "        n.save_parameters('../wd/parameters/vn.params-%04d' % i)\n",
    "        validation_lost.append( (v_lost, i) )\n",
    "        "
   ]
  },
  {
   "cell_type": "code",
   "execution_count": 13,
   "metadata": {
    "collapsed": false,
    "deletable": true,
    "editable": true
   },
   "outputs": [
    {
     "name": "stdout",
     "output_type": "stream",
     "text": [
      "1920\n",
      "INFO:tensorflow:Restoring parameters from ../wd/parameters/vn.params-1920\n"
     ]
    }
   ],
   "source": [
    "validation_lost.sort()\n",
    "i = validation_lost[0][1]\n",
    "print i\n",
    "n.restore_parameters('../wd/parameters/vn.params-%04d' % i)"
   ]
  },
  {
   "cell_type": "code",
   "execution_count": 14,
   "metadata": {
    "collapsed": false
   },
   "outputs": [],
   "source": [
    "Xarray2, Yarray2, pos_array2 = \\\n",
    "utils.get_training_array(\"../wd/aln_tensor_chr22\", \n",
    "                         \"../wd/variants_chr22\", \n",
    "                         \"../testing_data/chr22/CHROM22_v.3.3.2_highconf_noinconsistent.bed\" )"
   ]
  },
  {
   "cell_type": "code",
   "execution_count": 15,
   "metadata": {
    "collapsed": false
   },
   "outputs": [],
   "source": [
    "base, t = n.predict(Xarray2)"
   ]
  },
  {
   "cell_type": "code",
   "execution_count": 16,
   "metadata": {
    "collapsed": false
   },
   "outputs": [
    {
     "data": {
      "text/plain": [
       "<matplotlib.image.AxesImage at 0x7fb8f80d9650>"
      ]
     },
     "execution_count": 16,
     "metadata": {},
     "output_type": "execute_result"
    },
    {
     "data": {
      "image/png": "[encoded data removed]",
      "text/plain": [
       "<matplotlib.figure.Figure at 0x7fba42192f90>"
      ]
     },
     "metadata": {},
     "output_type": "display_data"
    },
    {
     "data": {
      "image/png": "[encoded data removed]",
      "text/plain": [
       "<matplotlib.figure.Figure at 0x7fba42192110>"
      ]
     },
     "metadata": {},
     "output_type": "display_data"
    }
   ],
   "source": [
    "figure(figsize=(15, 5))\n",
    "matshow(Yarray2[4000:4150,:].transpose(), fignum=0)\n",
    "figure(figsize=(15, 5))\n",
    "matshow(np.concatenate( (base[4000:4150,:],t[4000:4150,:]),1).transpose(), fignum=0)\n"
   ]
  },
  {
   "cell_type": "code",
   "execution_count": 17,
   "metadata": {
    "collapsed": false
   },
   "outputs": [],
   "source": [
    "evaluation_data = []\n",
    "for pos, predict_v, annotate_v in zip(np.array(pos_array2), t, Yarray2[:,4:]):\n",
    "    evaluation_data.append( (pos, np.argmax(predict_v), np.argmax(annotate_v)) )\n",
    "evaluation_data = np.array(evaluation_data)"
   ]
  },
  {
   "cell_type": "code",
   "execution_count": 18,
   "metadata": {
    "collapsed": false
   },
   "outputs": [],
   "source": [
    "from collections import Counter"
   ]
  },
  {
   "cell_type": "code",
   "execution_count": 19,
   "metadata": {
    "collapsed": false
   },
   "outputs": [
    {
     "name": "stdout",
     "output_type": "stream",
     "text": [
      "0 \t21185 \t83 \t292 \t249 \t\n",
      "1 \t81 \t9557 \t3 \t50 \t\n",
      "2 \t234 \t5 \t11974 \t396 \t\n",
      "3 \t684 \t324 \t233 \t1884 \t\n"
     ]
    }
   ],
   "source": [
    "for i in range(4):\n",
    "    cnt = Counter(evaluation_data[evaluation_data[:,2]==i,1])\n",
    "    print i,\"\\t\",\n",
    "    for j in range(4):\n",
    "        print cnt.get(j,0),\"\\t\",\n",
    "    print"
   ]
  },
  {
   "cell_type": "code",
   "execution_count": 20,
   "metadata": {
    "collapsed": false
   },
   "outputs": [
    {
     "name": "stdout",
     "output_type": "stream",
     "text": [
      "Recall rate for het-call (regardless called variant types): 0.986611032143\n",
      "Recall rate for het-call (called variant type = het): 0.971387959099\n",
      "\n",
      "PPV for het-call (regardless called variant types): 0.989451857194\n",
      "PPV for het-call (called variant type = het): 0.954967544176\n",
      "\n",
      "Recall rate for hom-call (regardless called variant types): 0.999690434424\n",
      "Recall rate for hom-call (called variant type = hom): 0.986172737592\n",
      "\n",
      "PPV for hom-call (regardless called variant types): 0.99949844518\n",
      "PPV for hom-call (called variant type = hom): 0.958671882837\n",
      "\n",
      "Recall rate for all calls: 0.984750902527\n",
      "PPV for all calls: 0.981717148451\n"
     ]
    }
   ],
   "source": [
    "ed = evaluation_data\n",
    "print \"Recall rate for het-call (regardless called variant types):\", 1.0*sum((ed[:,1]!=2) & (ed[:,2]==0))/sum(ed[:,2]==0)\n",
    "print \"Recall rate for het-call (called variant type = het):\", 1.0*sum((ed[:,1]==0) & (ed[:,2]==0))/sum(ed[:,2]==0)\n",
    "print\n",
    "print \"PPV for het-call (regardless called variant types):\", 1.0*sum((ed[:,1]==0) & (ed[:,2]!=2))/sum(ed[:,1]==0)\n",
    "print \"PPV for het-call (called variant type = het):\", 1.0*sum((ed[:,1]==0) & (ed[:,2]==0))/sum(ed[:,1]==0)\n",
    "print\n",
    "print \"Recall rate for hom-call (regardless called variant types):\", 1.0*sum((ed[:,1]!=2) & (ed[:,2]==1))/sum(ed[:,2]==1)\n",
    "print \"Recall rate for hom-call (called variant type = hom):\", 1.0*sum((ed[:,1]==1) & (ed[:,2]==1))/sum(ed[:,2]==1)\n",
    "print\n",
    "print \"PPV for hom-call (regardless called variant types):\", 1.0*sum((ed[:,1]==1) & (ed[:,2]!=2))/sum(ed[:,1]==1)\n",
    "print \"PPV for hom-call (called variant type = hom):\", 1.0*sum((ed[:,1]==1) & (ed[:,2]==1))/sum(ed[:,1]==1)\n",
    "print\n",
    "print \"Recall rate for all calls:\", 1.0*sum((ed[:,1]!=2) & (ed[:,2]!=2))/sum(ed[:,2]!=2) \n",
    "print \"PPV for all calls:\", 1.0*sum((ed[:,1]!=2) & (ed[:,2]!=2))/sum(ed[:,1]!=2) "
   ]
  }
 ],
 "metadata": {
  "kernelspec": {
   "display_name": "Python 2",
   "language": "python",
   "name": "python2"
  },
  "language_info": {
   "codemirror_mode": {
    "name": "ipython",
    "version": 2
   },
   "file_extension": ".py",
   "mimetype": "text/x-python",
   "name": "python",
   "nbconvert_exporter": "python",
   "pygments_lexer": "ipython2",
   "version": "2.7.12+"
  }
 },
 "nbformat": 4,
 "nbformat_minor": 2
}
